{
 "cells": [
  {
   "cell_type": "code",
   "execution_count": 1,
   "metadata": {},
   "outputs": [],
   "source": [
    "# In a story we have person(who), place(where), event(what), time ( when) \n",
    "# we are going to generate a story with the random module with different parts of a story. \n",
    "# use random.choice() to pick choices from the list of parts in each categories\n"
   ]
  },
  {
   "cell_type": "code",
   "execution_count": 1,
   "metadata": {},
   "outputs": [],
   "source": [
    "import random\n",
    "from random import choice"
   ]
  },
  {
   "cell_type": "code",
   "execution_count": 2,
   "metadata": {},
   "outputs": [],
   "source": [
    "# assign choices for each of the categories of the story, make each as a list\n",
    "# you could add more in the story like from=[' England', 'New Yord'], name=[\" Joy\", 'May'] and so on\n",
    "who= ['A girl', ' A bunny', 'A curious puppy','A red hen', 'A funny boy']\n",
    "where=['a mountain', ' a dry well', ' a party', ' a math class']\n",
    "what= [' to meet a friend', ' to learn something', ' to sing', ' to find out a secret']\n",
    "time = [' on Monday', ' by Friday', ' on my birthday', ' in Christmas', ' on a rainy day']\n",
    "From = [' New York', \" A farm\", ' the countryside ']\n",
    "nick= [' Joy', \" Bingbing\", ' Sweetpie',' 小胖']"
   ]
  },
  {
   "cell_type": "code",
   "execution_count": 3,
   "metadata": {},
   "outputs": [
    {
     "name": "stdout",
     "output_type": "stream",
     "text": [
      " A bunny\n"
     ]
    }
   ],
   "source": [
    "# Now we are going to print out the story with choice()\n",
    "print(choice(who))"
   ]
  },
  {
   "cell_type": "code",
   "execution_count": 4,
   "metadata": {},
   "outputs": [
    {
     "name": "stdout",
     "output_type": "stream",
     "text": [
      "A red hen went to a dry well to meet a friend on Monday.\n"
     ]
    }
   ],
   "source": [
    "# use + to connect all parts in the story\n",
    "print(choice(who) + \" went to\" + choice(where) + choice(what) + choice(time)+\".\" ) "
   ]
  },
  {
   "cell_type": "code",
   "execution_count": 5,
   "metadata": {},
   "outputs": [
    {
     "name": "stdout",
     "output_type": "stream",
     "text": [
      "A girl with a nickname 小胖, on a rainy day, went toa mountain to find out a secret.\n"
     ]
    }
   ],
   "source": [
    "# or \n",
    "print(choice(who)+\" with a nickname\" + choice(nick)+ \",\"+ choice(time) +',' +\" went to\" + choice(where) + choice(what)  + \".\")"
   ]
  },
  {
   "cell_type": "code",
   "execution_count": 7,
   "metadata": {},
   "outputs": [
    {
     "name": "stdout",
     "output_type": "stream",
     "text": [
      "Write a charater's name here: Lily\n",
      "Write a place the charater is going:   the prom\n",
      "Type what the charater is goint to do: dance\n",
      "Type the time or day the story is happened: this Saturday\n",
      "Lily went to the prom to dance on this Saturday.\n"
     ]
    }
   ],
   "source": [
    "# Let's try uning input to generate a story:\n",
    "who=input(\"Write a charater's name here: \")\n",
    "where=input(\"Write a place the charater is going:   \")\n",
    "what=input(\"Type what the charater is goint to do: \")\n",
    "when=input(\"Type the time or day the story is happened: \")\n",
    "print(who+ \" went to \"+ where+ ' to ' + what+ \" on \"+ when+'.')"
   ]
  },
  {
   "cell_type": "code",
   "execution_count": null,
   "metadata": {},
   "outputs": [],
   "source": []
  }
 ],
 "metadata": {
  "kernelspec": {
   "display_name": "Python 3",
   "language": "python",
   "name": "python3"
  },
  "language_info": {
   "codemirror_mode": {
    "name": "ipython",
    "version": 3
   },
   "file_extension": ".py",
   "mimetype": "text/x-python",
   "name": "python",
   "nbconvert_exporter": "python",
   "pygments_lexer": "ipython3",
   "version": "3.7.1"
  }
 },
 "nbformat": 4,
 "nbformat_minor": 2
}
